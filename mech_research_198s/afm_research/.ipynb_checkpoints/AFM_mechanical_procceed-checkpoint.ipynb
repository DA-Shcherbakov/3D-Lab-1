{
 "cells": [
  {
   "cell_type": "code",
   "execution_count": 1,
   "metadata": {},
   "outputs": [],
   "source": [
    "def read_files(list_files):\n",
    "    for item in list_files:\n",
    "        var_name = item[:-4] ## предполагается, что файл формата *.txt\n",
    "        globals()[var_name] = np.loadtxt(item,delimiter='\\t')"
   ]
  },
  {
   "cell_type": "code",
   "execution_count": 3,
   "metadata": {},
   "outputs": [
    {
     "name": "stderr",
     "output_type": "stream",
     "text": [
      "<ipython-input-1-0fc305719d32>:4: UserWarning: loadtxt: input contained no data: \"LP21_lines.txt\"\n",
      "  globals()[var_name] = np.loadtxt(item,delimiter='\\t')\n",
      "<ipython-input-1-0fc305719d32>:4: UserWarning: loadtxt: input contained no data: \"LP19_spirals.txt\"\n",
      "  globals()[var_name] = np.loadtxt(item,delimiter='\\t')\n"
     ]
    },
    {
     "data": {
      "text/plain": [
       "['LP19_spirals', 'LP21_lines', 'example_list_files', 'read_files']"
      ]
     },
     "execution_count": 3,
     "metadata": {},
     "output_type": "execute_result"
    }
   ],
   "source": [
    "example_list_files = ['LP21_lines.txt','LP19_spirals.txt']\n",
    "read_files(example_list_files)\n",
    "%who_ls"
   ]
  },
  {
   "cell_type": "code",
   "execution_count": 4,
   "metadata": {},
   "outputs": [
    {
     "data": {
      "text/plain": [
       "array([], dtype=float64)"
      ]
     },
     "execution_count": 4,
     "metadata": {},
     "output_type": "execute_result"
    }
   ],
   "source": [
    "def contact_stiffness_calculation(DFL,h,calibration_on_SiO2):\n",
    "    DFL_max = max(DFL)\n",
    "    DFL_free, h_noncontact = find_flat(DFL,h)\n",
    "    delta_DFL = DFL_max - DFL_free\n",
    "    \n",
    "    h_contact = abs(h[0] - h_noncontact)\n",
    "    \n",
    "    k_cantiliver = calibration_on_SiO2[0]\n",
    "    DFL_to_h_cantiliver = calibration_on_SiO2[1]\n",
    "    \n",
    "    h_cantiliver = DFL_to_h_cantiliver * delta_DFL\n",
    "    h_sample = h_contact - h_cantiliver\n",
    "    \n",
    "    force = h_cantiliver * k_cantiliver\n",
    "    \n",
    "    k_contact = force/h_sample\n",
    "    return k_contact\n",
    "\n",
    "def find_flat(DFL,h):\n",
    "    \n",
    "    fluctuation = 0.01\n",
    "    i = 0\n",
    "    while derivate > 0.01:\n",
    "        i+=1\n",
    "        derivate = abs((DFL[i] -DFL[i-1])/(h[i] - h[i-1]))\n",
    "    DFL_free = DFL[i]\n",
    "    h_noncontact = h[i]\n",
    "    \n",
    "    return DFL_free, h_noncontact\n",
    "\n",
    "def calculate_calibration(DFL,h,k_cantiliver):\n",
    "\n",
    "    DFL_free, h_noncontact = find_flat(DFL,h)    \n",
    "    delta_DFL = DFL[0] - DFL_free\n",
    "    delta_h = abs(h[0] - h_noncontact)\n",
    "    \n",
    "    DFL_to_h_cantiliver = delta_DFL/delta_h\n",
    "    \n",
    "    list_of_calibration_on_SiO2 = list([k_cantiliver,DFL_to_h_cantiliver])\n",
    "    \n",
    "    \n",
    "    return list_of_calibration_on_SiO2 "
   ]
  },
  {
   "cell_type": "code",
   "execution_count": null,
   "metadata": {},
   "outputs": [],
   "source": [
    "def mapping_2D(data_2D):\n",
    "    map_2D = sns.heatmap(data_2D,cmap='viridis')"
   ]
  },
  {
   "cell_type": "code",
   "execution_count": null,
   "metadata": {},
   "outputs": [],
   "source": []
  }
 ],
 "metadata": {
  "kernelspec": {
   "display_name": "Python 3",
   "language": "python",
   "name": "python3"
  },
  "language_info": {
   "codemirror_mode": {
    "name": "ipython",
    "version": 3
   },
   "file_extension": ".py",
   "mimetype": "text/x-python",
   "name": "python",
   "nbconvert_exporter": "python",
   "pygments_lexer": "ipython3",
   "version": "3.8.10"
  }
 },
 "nbformat": 4,
 "nbformat_minor": 4
}
