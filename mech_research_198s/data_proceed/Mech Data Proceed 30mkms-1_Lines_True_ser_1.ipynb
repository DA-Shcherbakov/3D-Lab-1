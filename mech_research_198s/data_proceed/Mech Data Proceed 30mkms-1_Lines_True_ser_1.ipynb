{
 "cells": [
  {
   "cell_type": "code",
   "execution_count": 1,
   "metadata": {},
   "outputs": [],
   "source": [
    "import matplotlib.pyplot as plt\n",
    "import pandas as pd\n",
    "import numpy as np\n",
    "import seaborn as sns\n",
    "from io import StringIO\n",
    "import math\n",
    "import os\n",
    "plt.close('all')\n",
    "\n",
    "\n",
    "# LP1472_1F = np.loadtxt(\"Move_clbr_flat_punch_Lines_30mkmps(True)_1_series/Forward_2021-11-25T18-02-23-LP16-7_Lines_30mkmps(True)_1_series.data.txt\",delimiter='\\t')\n",
    "# LP1472_2R = np.loadtxt(\"Move_clbr_flat_punch_Lines_30mkmps(True)_1_series/Relax_2021-11-25T18-02-23-LP16-7_Lines_30mkmps(True)_1_series.data.txt\",delimiter='\\t')\n",
    "# LP1472_3B = np.loadtxt(\"Move_clbr_flat_punch_Lines_30mkmps(True)_1_series/Backward_2021-11-25T18-02-23-LP16-7_Lines_30mkmps(True)_1_series.data.txt\",delimiter='\\t')\n",
    "LP1317_1F = np.loadtxt(\"Move_clbr_flat_punch_Lines_30mkmps(True)_1_series/Forward_2021-11-25T18-07-51-LP16-7_Lines_30mkmps(True)_1_series.data.txt\",delimiter='\\t')\n",
    "LP1317_2R = np.loadtxt(\"Move_clbr_flat_punch_Lines_30mkmps(True)_1_series/Relax_2021-11-25T18-07-51-LP16-7_Lines_30mkmps(True)_1_series.data.txt\",delimiter='\\t')\n",
    "LP1317_3B = np.loadtxt(\"Move_clbr_flat_punch_Lines_30mkmps(True)_1_series/Backward_2021-11-25T18-07-51-LP16-7_Lines_30mkmps(True)_1_series.data.txt\",delimiter='\\t')\n",
    "LP1162_1F = np.loadtxt(\"Move_clbr_flat_punch_Lines_30mkmps(True)_1_series/Forward_2021-11-25T18-14-13-LP16-7_Lines_30mkmps(True)_1_series.data.txt\",delimiter='\\t')\n",
    "LP1162_2R = np.loadtxt(\"Move_clbr_flat_punch_Lines_30mkmps(True)_1_series/Relax_2021-11-25T18-14-13-LP16-7_Lines_30mkmps(True)_1_series.data.txt\",delimiter='\\t')\n",
    "LP1162_3B = np.loadtxt(\"Move_clbr_flat_punch_Lines_30mkmps(True)_1_series/Backward_2021-11-25T18-14-13-LP16-7_Lines_30mkmps(True)_1_series.data.txt\",delimiter='\\t')\n",
    "\n",
    "\n",
    "# LP860_1F = np.loadtxt(\"Move_clbr_flat_punch_Lines_30mkmps(True)_1_series/Forward_2021-11-25T18-18-01-LP16-7_Lines_30mkmps(True)_1_series.data.txt\",delimiter='\\t')\n",
    "# LP860_2R = np.loadtxt(\"Move_clbr_flat_punch_Lines_30mkmps(True)_1_series/Relax_2021-11-25T18-18-01-LP16-7_Lines_30mkmps(True)_1_series.data.txt\",delimiter='\\t')\n",
    "# LP860_3B = np.loadtxt(\"Move_clbr_flat_punch_Lines_30mkmps(True)_1_series/Backward_2021-11-25T18-18-01-LP16-7_Lines_30mkmps(True)_1_series.data.txt\",delimiter='\\t')\n",
    "\n",
    "\n"
   ]
  },
  {
   "cell_type": "code",
   "execution_count": 2,
   "metadata": {
    "scrolled": true
   },
   "outputs": [
    {
     "name": "stdout",
     "output_type": "stream",
     "text": [
      "Variable          Type       Data/Info\n",
      "--------------------------------------\n",
      "LP1162_1F         ndarray    9337x2: 18674 elems, type `float64`, 149392 bytes (145.890625 kb)\n",
      "LP1162_2R         ndarray    926x2: 1852 elems, type `float64`, 14816 bytes\n",
      "LP1162_3B         ndarray    1973x2: 3946 elems, type `float64`, 31568 bytes\n",
      "LP1317_1F         ndarray    11398x2: 22796 elems, type `float64`, 182368 bytes (178.09375 kb)\n",
      "LP1317_2R         ndarray    926x2: 1852 elems, type `float64`, 14816 bytes\n",
      "LP1317_3B         ndarray    1333x2: 2666 elems, type `float64`, 21328 bytes\n",
      "StringIO          type       <class '_io.StringIO'>\n",
      "i                 int        6\n",
      "math              module     <module 'math' from '/hom<...>-38-x86_64-linux-gnu.so'>\n",
      "np                module     <module 'numpy' from '/ho<...>kages/numpy/__init__.py'>\n",
      "os                module     <module 'os' from '/home/<...>da3/lib/python3.8/os.py'>\n",
      "pd                module     <module 'pandas' from '/h<...>ages/pandas/__init__.py'>\n",
      "plt               module     <module 'matplotlib.pyplo<...>es/matplotlib/pyplot.py'>\n",
      "sample_list_tmp   list       n=6\n",
      "sns               module     <module 'seaborn' from '/<...>ges/seaborn/__init__.py'>\n",
      "tmp               list       n=13\n",
      "['LP1162_3B', 'LP1317_3B']\n"
     ]
    },
    {
     "data": {
      "text/plain": [
       "['LP1162_3B', 'LP1317_3B']"
      ]
     },
     "execution_count": 2,
     "metadata": {},
     "output_type": "execute_result"
    }
   ],
   "source": [
    "tmp = %who_ls\n",
    "i = 0\n",
    "sample_list_tmp = []\n",
    "while tmp[i][0] == 'L':\n",
    "    sample_list_tmp.append(tmp[i])\n",
    "    i+=1\n",
    "%whos\n",
    "sample_list = sample_list_tmp [2::3]\n",
    "print(sample_list)\n",
    "\n",
    "f = open('path.txt','r')\n",
    "path_fig = f.readline().strip()\n",
    "f.close()\n",
    "\n",
    "f = open('config_proceed.txt','r')\n",
    "dS_modale = int(f.readline().strip())\n",
    "f.close()\n",
    "sample_list"
   ]
  },
  {
   "cell_type": "code",
   "execution_count": 3,
   "metadata": {},
   "outputs": [
    {
     "data": {
      "image/png": "[encoded data removed]",
      "text/plain": [
       "<Figure size 432x288 with 1 Axes>"
      ]
     },
     "metadata": {
      "needs_background": "light"
     },
     "output_type": "display_data"
    },
    {
     "data": {
      "image/png": "[encoded data removed]",
      "text/plain": [
       "<Figure size 432x288 with 1 Axes>"
      ]
     },
     "metadata": {
      "needs_background": "light"
     },
     "output_type": "display_data"
    }
   ],
   "source": [
    "for name in sample_list_tmp:\n",
    "    np_tmp = globals().get(name)\n",
    "    if name[-1] !='B':\n",
    "\n",
    "    #     print(np_tmp[:,0])\n",
    "        plt.plot(np_tmp[:,0],np_tmp[:,1])\n",
    "    else:\n",
    "        plt.plot(np_tmp[:,0],np_tmp[:,1])\n",
    "        plt.title(name[:-3])\n",
    "        plt.show()\n",
    "#plt.legend()\n"
   ]
  },
  {
   "cell_type": "code",
   "execution_count": 4,
   "metadata": {},
   "outputs": [],
   "source": [
    "def find_limit(np_tmp):\n",
    "    down_limit =0\n",
    "#     up_limit = 0\n",
    "    count_d = 0\n",
    "#     count_up = 0\n",
    "    \n",
    "    df_limit = 0.3\n",
    "    step = 30\n",
    "#     step_dt = 0.2\n",
    "    i = 1\n",
    "    len_np_tmp = len(np_tmp)\n",
    "#    print(len_DF)\n",
    "#     print('h,nm',(np_tmp[i,0], np_tmp[2,0]),' F,mkmN',(np_tmp[i,1],np_tmp[i+step,1]))\n",
    "    while i < len_np_tmp/2:\n",
    "        \n",
    "        i_new = i + step\n",
    "    \n",
    "#         print('h,nm',(np_tmp[i,0], np_tmp[i_new,0]),' F,mkmN',(np_tmp[i,1],np_tmp[i_new,1]))\n",
    "        \n",
    "        df_d = (np_tmp[i,1] - np_tmp[i_new,1])/(np_tmp[i,0] - np_tmp[i_new,0])\n",
    "\n",
    "#         df_up = (np_tmp[-i][1] - np_tmp[-(i_new)][1])/(np_tmp[-i][0] - np_tmp[-(i_new)][0])\n",
    "        \n",
    "#         print(df_d,df_up)\n",
    "\n",
    "        if abs(df_d) < df_limit and count_d < 10:\n",
    "            down_limit = i\n",
    "            count_d = 0\n",
    "        else:\n",
    "            count_d += 1\n",
    "\n",
    "#         if abs(df_up) < df_limit and count_up < 10:\n",
    "#             up_limit = i\n",
    "#             count_up = 0\n",
    "#         else:\n",
    "#             count_up += 1\n",
    "              \n",
    "        i+=step\n",
    "#     up_limit_tmp = -up_limit\n",
    "    print(down_limit,np_tmp[down_limit,0])\n",
    "#     counter = 0\n",
    "    if down_limit != 0:\n",
    "        for i in range(down_limit):\n",
    "            np_tmp = np.delete(np_tmp,(0), axis = 0)\n",
    "#             counter +=1\n",
    "#     print('I have deleted that %d!'%(counter))\n",
    "        \n",
    "    len_np_tmp -= down_limit \n",
    "    \n",
    "#     if up_limit != 0:\n",
    "#         for i in range(up_limit):\n",
    "#             np_tmp = np.delete(np_tmp,(-1), axis = 0)\n",
    "    \n",
    "    #print(len(DF),down_limit,up_limit)\n",
    "    \n",
    "    \n",
    "    \n",
    "    \n",
    "    #len_DF = len(DF)\n",
    "    #df_limit = 10000\n",
    "    #down_limit =0\n",
    "    #up_limit = 0\n",
    "    #count_up = 0\n",
    "    #count_d = 0\n",
    "    #i = 0\n",
    "    #part = 0.35\n",
    "    #while i < len_DF*part:\n",
    "    \n",
    "        #df_d = (DF[i][3] - DF[i_new][3])/\n",
    "\n",
    "        #df_up = (DF[-i][3] - DF[-(i_new)][3])/\n",
    "        \n",
    "   #     if (DF[i][3] - DF[i_new][3])==0:\n",
    "             #down_limit = i\n",
    "     #       count_d = 0\n",
    "        #elif abs((DF[i][2] - DF[i_new][2])/(DF[i][3] - DF[i_new][3])) > df_limit and count_d < 10:\n",
    "         #   print((DF[i][2] - DF[i_new][2])/(DF[i][3] - DF[i_new][3]))\n",
    "          #  down_limit = i\n",
    "           # count_d = 0\n",
    "        #else:\n",
    "         #   count_d += 1\n",
    "\n",
    "#        if (DF[-i][3] - DF[-(i_new)][3])==0:\n",
    "#            up_limit = i\n",
    "#            count_up = 0\n",
    "#        elif abs((DF[-i][2] - DF[-(i_new)][2])/(DF[-i][3] - DF[-(i_new)][3])) > df_limit and count_up < 10:\n",
    "#            print((DF[-i][2] - DF[-(i_new)][2])/(DF[i][3] - DF[-(i_new)][3]))\n",
    "#            up_limit = i\n",
    "#            count_up = 0\n",
    "#        else:\n",
    "#            count_up += 1\n",
    "              \n",
    "#        i+=step\n",
    "    \n",
    "#    for i in range(down_limit):\n",
    "#        DF = np_tmp.delete(DF,(0), axis = 0)\n",
    "        \n",
    "#    len_DF -= down_limit \n",
    "    \n",
    "#    for i in range(up_limit):\n",
    "#        DF = np_tmp.delete(DF,(-1), axis = 0)\n",
    "        \n",
    "#    print(len(DF),down_limit,up_limit)\n",
    "#    print(DF.shape)\n",
    "    return np_tmp"
   ]
  },
  {
   "cell_type": "code",
   "execution_count": 5,
   "metadata": {
    "scrolled": true
   },
   "outputs": [],
   "source": [
    "def join_data(frame):\n",
    "#     print(id(np.empty((1,2))))\n",
    "    new_np_tmp = np.empty((1,2))\n",
    "#     print(id(new_np_tmp))\n",
    "    for name in sample_list_tmp:\n",
    "        \n",
    "        np_tmp = globals().get(name)\n",
    "#         print(name,id(np_tmp))\n",
    "#         new_np_tmp = np_tmp.copy()\n",
    "        if name[-1] != 'B':\n",
    "\n",
    "            new_np_tmp = np.vstack((new_np_tmp,np_tmp))\n",
    "#             print('new_np_tmp',id(new_np_tmp),len(new_np_tmp))\n",
    "        #i = 1\n",
    "        #dlina = len(DF_tmp)\n",
    "        #while i < dlina:\n",
    "        #    new_DF_tmp = np.vstack([new_DF_tmp, DF_tmp[]])\n",
    "#            i+=1000\n",
    "        \n",
    "        #new_DF_tmp.rename(columns = {'F,mkmN': name}, inplace = True)\n",
    "        else:\n",
    "            new_np_tmp = np.vstack((new_np_tmp,np_tmp))\n",
    "            frame.append(new_np_tmp)\n",
    "#             print('new_np_tmp',id(new_np_tmp),len(new_np_tmp))\n",
    "            new_np_tmp = new_np_tmp[0:0,:]\n",
    "#         print('new_np_tmp',id(new_np_tmp),new_np_tmp)\n",
    "            "
   ]
  },
  {
   "cell_type": "code",
   "execution_count": 6,
   "metadata": {},
   "outputs": [],
   "source": [
    "frame = []\n",
    "\n",
    "join_data(frame)"
   ]
  },
  {
   "cell_type": "code",
   "execution_count": 7,
   "metadata": {},
   "outputs": [
    {
     "name": "stdout",
     "output_type": "stream",
     "text": [
      "0 200.72500000000002\n",
      "3001 3735.94140625\n"
     ]
    },
    {
     "data": {
      "image/png": "[encoded data removed]",
      "text/plain": [
       "<Figure size 432x288 with 1 Axes>"
      ]
     },
     "metadata": {
      "needs_background": "light"
     },
     "output_type": "display_data"
    }
   ],
   "source": [
    "for k in range(len(frame)):\n",
    "    np_tmp = frame[k]\n",
    "    #DF_tmp_df = pd.DataFrame(data=DF_tmp, index=np.array(range(len(DF_tmp))),columns=range(5))\n",
    "    #DF_tmp_df.plot(x=0,y=3)\n",
    "#     print(np_tmp.shape,id(np_tmp),np_tmp[0,0])\n",
    "    frame[k] = find_limit(np_tmp)\n",
    "    min_value = frame[k][0,0]\n",
    "#     print(min_value)\n",
    "    frame[k][:,0] = frame[k][:,0] - min_value\n",
    "    plt.plot(frame[k][:,0],frame[k][:,1],label = sample_list_tmp[3*k][:4])\n",
    "plt.legend()\n",
    "plt.ylabel('F ($\\mu$m)')\n",
    "plt.xlabel('h (nm)')\n",
    "path = os.path.join(path_fig,'F_h_30mkmps_Lines_True_ser_1.pdf')\n",
    "plt.savefig(path)\n",
    "\n",
    "plt.show()"
   ]
  },
  {
   "cell_type": "code",
   "execution_count": 8,
   "metadata": {
    "scrolled": true
   },
   "outputs": [
    {
     "data": {
      "text/plain": [
       "['LP1162_1F',\n",
       " 'LP1162_2R',\n",
       " 'LP1162_3B',\n",
       " 'LP1317_1F',\n",
       " 'LP1317_2R',\n",
       " 'LP1317_3B',\n",
       " 'StringIO',\n",
       " 'dS_modale',\n",
       " 'f',\n",
       " 'find_limit',\n",
       " 'frame',\n",
       " 'i',\n",
       " 'join_data',\n",
       " 'k',\n",
       " 'math',\n",
       " 'min_value',\n",
       " 'name',\n",
       " 'np',\n",
       " 'np_tmp',\n",
       " 'os',\n",
       " 'path',\n",
       " 'path_fig',\n",
       " 'pd',\n",
       " 'plt',\n",
       " 'sample_list',\n",
       " 'sample_list_tmp',\n",
       " 'sns',\n",
       " 'tmp']"
      ]
     },
     "execution_count": 8,
     "metadata": {},
     "output_type": "execute_result"
    }
   ],
   "source": [
    "%who_ls"
   ]
  },
  {
   "cell_type": "code",
   "execution_count": 9,
   "metadata": {},
   "outputs": [],
   "source": [
    "def reader_of_LP(sample_list):\n",
    "    list_LP = []\n",
    "    for name in sample_list:\n",
    "        len_name = len(name)\n",
    "        str_list = list(name)\n",
    "        str_tmp = []\n",
    "        i = 0\n",
    "        j = 0\n",
    "        while name[i] !='P':\n",
    "            i+=1\n",
    "        i+=1\n",
    "        while name[i+j] !=\"_\":\n",
    "            str_tmp +=str_list[i+j]\n",
    "            j+=1\n",
    "            \n",
    "        tmp = int(''.join(str_tmp))\n",
    "        if tmp < 30:\n",
    "            tmp = float(tmp/2)\n",
    "        else:\n",
    "            tmp = float(tmp/100/2)\n",
    "            \n",
    "        list_LP.append(tmp)\n",
    "    return list_LP"
   ]
  },
  {
   "cell_type": "code",
   "execution_count": 10,
   "metadata": {},
   "outputs": [
    {
     "data": {
      "text/plain": [
       "[5.81, 6.585]"
      ]
     },
     "execution_count": 10,
     "metadata": {},
     "output_type": "execute_result"
    }
   ],
   "source": [
    "list_LP = reader_of_LP(sample_list)\n",
    "list_LP"
   ]
  },
  {
   "cell_type": "code",
   "execution_count": 11,
   "metadata": {},
   "outputs": [],
   "source": [
    "def calc_Er(np_tmp,dS_modale):\n",
    "    \n",
    "#     name = sample_list[k]\n",
    "#     print(np_tmp,name)\n",
    "#     normirovka(np_tmp,name)\n",
    "    start = 0\n",
    "    #print(start,np_tmp['h,nm'][start])\n",
    "    finish = start\n",
    "    #print(start,np_tmp['h,nm'][finish+1])\n",
    "    dS_real = 0 \n",
    "    #print(start)\n",
    "    while abs(dS_real) < dS_modale:\n",
    "        \n",
    "        finish +=1\n",
    "        dS_real = np_tmp[finish][0] - np_tmp[start][0]\n",
    "        #print(dS_real)\n",
    "    \n",
    "    NP = np.array([0,0])\n",
    "    for i in range(start,finish+1):\n",
    "        #print([np_tmp['h,nm'][i], np_tmp[sample_list[k]][i]])\n",
    "        NP = np.vstack([NP, np_tmp[i]])\n",
    "    NP = np.delete(NP,(0),axis = 0)\n",
    "    #print(np_tmp[:,0])\n",
    "    plt.plot(NP[:,0], NP[:,1])\n",
    "    \n",
    "    x_tmp = np.vstack([NP[:,0], np.ones(len(NP[:,0]))]).T\n",
    "    #x_tmp = np_tmp[:,0].T\n",
    "    #print(x_tmp)\n",
    "    Er, tmp =np.linalg.lstsq(x_tmp,NP[:,1],rcond=None)[0] \n",
    "\n",
    "    plt.plot(x_tmp,x_tmp*Er + tmp,'r',label=\"Fitted line\")\n",
    "#     plt.xlim([2000-dS_modale, 2050])\n",
    "    plt.ylim([0,20000])\n",
    "    #Er = (np_tmp[sample_list[k]][finish] - np_tmp[sample_list[k]][start])/(dS_real)\n",
    "    #np_tmp[start-50:finish].plot(x='h,nm',y=sample_list[k])\n",
    "    #print(Er)\n",
    "    return abs(Er)\n",
    "    \n",
    "# def find_reload(np_tmp):\n",
    "    \n",
    "#     len_np_tmp = len(np_tmp)\n",
    "#     i = int(len_np_tmp*0.2)\n",
    "#     step = 1\n",
    "#     np_tmp_limit = 15\n",
    "#     count = 0\n",
    "#     #print(i,np_tmp['h,nm'])\n",
    "#     np_tmp = int((np_tmp['h,nm'][5+i] - np_tmp['h,nm'][i])/(np_tmp['t,s'][i+5] - np_tmp['t,s'][i]))\n",
    "#     #print(np_tmp)\n",
    "#     while i < len_np_tmp :\n",
    "#         i+=step\n",
    "#         np_tmp = int((np_tmp['h,nm'][i+5] - np_tmp['h,nm'][i])/(np_tmp['t,s'][i+5] - np_tmp['t,s'][i]))\n",
    "#         #print(np_tmp,count,i)\n",
    "#         if np_tmp >= 0 and count < 3:\n",
    "#             count = 0\n",
    "#         elif count >= 3 and abs(np_tmp) > np_tmp_limit:\n",
    "#             #print(i)\n",
    "#             return i\n",
    "#         else:\n",
    "#             count+=1\n",
    "#         #print(np_tmp)\n",
    "        \n",
    "#     #print(i)\n",
    "#     #print(np_tmp)\n",
    "#     #np_tmp.plot(x='t,s',y='h,nm')\n",
    "#     #return i\n",
    "    \n",
    "# def normirovka(np_tmp,name):\n",
    "    \n",
    "#     j = 0\n",
    "#     ref_tmp = min(np_tmp[name][:len(np_tmp)-1])\n",
    "#     while j < len(np_tmp):\n",
    "\n",
    "\n",
    "#         tmp = np_tmp[name][j]\n",
    "#         np_tmp[name][j] = tmp - ref_tmp\n",
    "#         j+=1\n",
    "    "
   ]
  },
  {
   "cell_type": "code",
   "execution_count": 12,
   "metadata": {
    "scrolled": true
   },
   "outputs": [
    {
     "data": {
      "text/plain": [
       "[0.5662464393915049, 0.21260390552709144]"
      ]
     },
     "execution_count": 12,
     "metadata": {},
     "output_type": "execute_result"
    },
    {
     "data": {
      "image/png": "[encoded data removed]",
      "text/plain": [
       "<Figure size 432x288 with 1 Axes>"
      ]
     },
     "metadata": {
      "needs_background": "light"
     },
     "output_type": "display_data"
    }
   ],
   "source": [
    "list_Er = []\n",
    "for name in sample_list:\n",
    "    np_tmp = globals().get(name)\n",
    "    df_dh = calc_Er(np_tmp,dS_modale)\n",
    "    Area = 625 *0.25 * math.pi\n",
    "    t = 10\n",
    "    Er = t*df_dh/Area\n",
    "    list_Er.append(Er)\n",
    "    #calc_Er(DF_tmp,k)\n",
    "list_Er"
   ]
  },
  {
   "cell_type": "code",
   "execution_count": 13,
   "metadata": {},
   "outputs": [
    {
     "data": {
      "image/png": "[encoded data removed]",
      "text/plain": [
       "<Figure size 432x288 with 2 Axes>"
      ]
     },
     "metadata": {
      "needs_background": "light"
     },
     "output_type": "display_data"
    }
   ],
   "source": [
    "import pylab\n",
    "Er_LP = np.vstack((list_LP, list_Er))\n",
    "pylab.subplot(121)\n",
    "pylab.scatter(Er_LP[0], Er_LP[1], label= 'V = 30 $\\mu m \\, s^{-1}$')  #  r - значит red\n",
    "pylab.xlabel('LP (mW)')\n",
    "pylab.ylabel('$E_r$ (GPa)')\n",
    "pylab.title('V = 30 $\\mu m \\, s^{-1}$')\n",
    "pylab.legend(loc='upper right')\n",
    "pylab.subplot(122)\n",
    "for k in range(len(frame)):\n",
    "    lab = (str(list_LP[k])+'mW')\n",
    "    pylab.plot(frame[k][:,0], frame[k][:,1], label = lab)\n",
    "pylab.xlabel('h (nm)')\n",
    "pylab.ylabel('$F$ ($\\mu \\mathrm{N}$)')\n",
    "pylab.title('Кривые нагрузки/разгрузки')\n",
    "pylab.legend(loc='upper left')\n",
    "pylab.subplots_adjust(wspace=0.5, hspace=0)\n",
    "#Er_LP, F_h_180mkmps_Lines = plt.subplots(nrows=1, ncols=2)\n",
    "#pylab.show()\n",
    "path = os.path.join(path_fig,'Results_30mkmps_Lines_ser_1.pdf')\n",
    "pylab.savefig(path)\n",
    "#pylab.savefig('Results_180mkmps_Lines_ser_1.png',format=\"png\")"
   ]
  },
  {
   "cell_type": "code",
   "execution_count": 14,
   "metadata": {},
   "outputs": [
    {
     "name": "stdout",
     "output_type": "stream",
     "text": [
      "[[5.81       6.585     ]\n",
      " [0.56624644 0.21260391]]\n"
     ]
    }
   ],
   "source": [
    "print(Er_LP)\n",
    "np.save(\"Er_30mkms-1_Lines_ser_1(True)\",Er_LP)"
   ]
  },
  {
   "cell_type": "code",
   "execution_count": 15,
   "metadata": {},
   "outputs": [
    {
     "data": {
      "text/plain": [
       "['LP1162_3B', 'LP1317_3B']"
      ]
     },
     "execution_count": 15,
     "metadata": {},
     "output_type": "execute_result"
    }
   ],
   "source": [
    "sample_list"
   ]
  }
 ],
 "metadata": {
  "celltoolbar": "Tags",
  "kernelspec": {
   "display_name": "Python 3",
   "language": "python",
   "name": "python3"
  },
  "language_info": {
   "codemirror_mode": {
    "name": "ipython",
    "version": 3
   },
   "file_extension": ".py",
   "mimetype": "text/x-python",
   "name": "python",
   "nbconvert_exporter": "python",
   "pygments_lexer": "ipython3",
   "version": "3.8.8"
  }
 },
 "nbformat": 4,
 "nbformat_minor": 2
}
